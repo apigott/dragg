{
 "cells": [
  {
   "cell_type": "markdown",
   "metadata": {},
   "source": [
    "most recent plotting v1.0 = baseline + using RL agent to predict just the cost at the horizon time (t+1 hr) \n",
    "\n",
    "v2.1 = using the RL agent to predict just the next RP v2.2 = using RL agent to predict next RP + 1 RP later \n",
    "\n",
    "v2.3 = using RL agent to predict RP at next timestep (t+0) and the 2 timesteps after that v2.4 = using RL agent to predict RP at next timestep and 3 timesteps after that\n",
    "\n",
    "All RPs are formulated as follows: 1 RL agent for each timestep in the RP forecast horizon (v2.1 has 1 agent, v2.2 has 2, etc) The last agent selects and RP [-0.05, 0.05] and all others pick a change in the RP [-0.01, 0.01]\n",
    "\n",
    "Example: \n",
    "\n",
    "RP matrix starts out as [x y 0 0] \n",
    "\n",
    "HEMS respond to [x y 0 0] and RP matrix rolls over to [y ? 0 0] \n",
    "\n",
    "In v2.2 Agent 1 looks at the RP given last timestep and can change the RP by $0.01 \n",
    "\n",
    "New RP is [y+delta ? 0 0] \n",
    "\n",
    "Then Agent 2 looks at the forecasted load given the change in RP at t=0 and selects a new RP for t+1 \n",
    "\n",
    "Final RP is [y+delta z 0 0] and HEMS respond."
   ]
  },
  {
   "cell_type": "code",
   "execution_count": null,
   "metadata": {},
   "outputs": [],
   "source": [
    "from dragg.reformat import Reformat\n",
    "r = Reformat()\n",
    "r.main()"
   ]
  },
  {
   "cell_type": "code",
   "execution_count": null,
   "metadata": {},
   "outputs": [],
   "source": [
    "# for a list of other plotting functions\n",
    "from dragg.reformat import Reformat\n",
    "help(Reformat)"
   ]
  }
 ],
 "metadata": {
  "kernelspec": {
   "display_name": "Python 3",
   "language": "python",
   "name": "python3"
  },
  "language_info": {
   "codemirror_mode": {
    "name": "ipython",
    "version": 3
   },
   "file_extension": ".py",
   "mimetype": "text/x-python",
   "name": "python",
   "nbconvert_exporter": "python",
   "pygments_lexer": "ipython3",
   "version": "3.6.10"
  }
 },
 "nbformat": 4,
 "nbformat_minor": 4
}
